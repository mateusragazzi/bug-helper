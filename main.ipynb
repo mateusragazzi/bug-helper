{
  "nbformat": 4,
  "nbformat_minor": 0,
  "metadata": {
    "colab": {
      "name": "completando dataset 5 - issues 20 years Mozilla 2020.ipynb",
      "provenance": [],
      "collapsed_sections": [
        "tjRmnDUkjkkg",
        "nba4xsqdsEND",
        "vFzA4T56sYN-",
        "qFpbu1nT4wvu",
        "wa0ro7ry4Jzu",
        "jEuHMjff4Jzx",
        "7Xq-rOkthpim",
        "hQ4ylotT-uQf",
        "kDd_qXprqaXh",
        "qdLpWl7DVHHG",
        "8yZryoHw2T6H"
      ],
      "include_colab_link": true
    },
    "kernelspec": {
      "display_name": "Python 3",
      "name": "python3"
    }
  },
  "cells": [
    {
      "cell_type": "markdown",
      "metadata": {
        "id": "view-in-github",
        "colab_type": "text"
      },
      "source": [
        "<a href=\"https://colab.research.google.com/github/mateusragazzi/bug-helper/blob/main/main.ipynb\" target=\"_parent\"><img src=\"https://colab.research.google.com/assets/colab-badge.svg\" alt=\"Open In Colab\"/></a>"
      ]
    },
    {
      "cell_type": "markdown",
      "metadata": {
        "id": "tjRmnDUkjkkg"
      },
      "source": [
        "### Dependencies"
      ]
    },
    {
      "cell_type": "code",
      "metadata": {
        "colab": {
          "base_uri": "https://localhost:8080/"
        },
        "id": "8xUGRnXajIXJ",
        "outputId": "b885cc93-a51b-4276-b384-8da6cbd5c860"
      },
      "source": [
        "!pip install fastparquet\n",
        "!pip install python-Levenshtein\n"
      ],
      "execution_count": 1,
      "outputs": [
        {
          "output_type": "stream",
          "text": [
            "Requirement already satisfied: fastparquet in /usr/local/lib/python3.7/dist-packages (0.5.0)\n",
            "Requirement already satisfied: thrift>=0.11.0 in /usr/local/lib/python3.7/dist-packages (from fastparquet) (0.13.0)\n",
            "Requirement already satisfied: pandas>=1.1.0 in /usr/local/lib/python3.7/dist-packages (from fastparquet) (1.1.5)\n",
            "Requirement already satisfied: numpy>=1.11 in /usr/local/lib/python3.7/dist-packages (from fastparquet) (1.19.5)\n",
            "Requirement already satisfied: numba>=0.49 in /usr/local/lib/python3.7/dist-packages (from fastparquet) (0.51.2)\n",
            "Requirement already satisfied: six>=1.7.2 in /usr/local/lib/python3.7/dist-packages (from thrift>=0.11.0->fastparquet) (1.15.0)\n",
            "Requirement already satisfied: pytz>=2017.2 in /usr/local/lib/python3.7/dist-packages (from pandas>=1.1.0->fastparquet) (2018.9)\n",
            "Requirement already satisfied: python-dateutil>=2.7.3 in /usr/local/lib/python3.7/dist-packages (from pandas>=1.1.0->fastparquet) (2.8.1)\n",
            "Requirement already satisfied: llvmlite<0.35,>=0.34.0.dev0 in /usr/local/lib/python3.7/dist-packages (from numba>=0.49->fastparquet) (0.34.0)\n",
            "Requirement already satisfied: setuptools in /usr/local/lib/python3.7/dist-packages (from numba>=0.49->fastparquet) (54.2.0)\n",
            "Requirement already satisfied: python-Levenshtein in /usr/local/lib/python3.7/dist-packages (0.12.2)\n",
            "Requirement already satisfied: setuptools in /usr/local/lib/python3.7/dist-packages (from python-Levenshtein) (54.2.0)\n"
          ],
          "name": "stdout"
        }
      ]
    },
    {
      "cell_type": "markdown",
      "metadata": {
        "id": "4eNs7Suw9X7H"
      },
      "source": [
        "##### Imports"
      ]
    },
    {
      "cell_type": "code",
      "metadata": {
        "colab": {
          "base_uri": "https://localhost:8080/"
        },
        "id": "IMvddI009axx",
        "outputId": "c41b9bcb-41a5-4d1f-92c0-4cede19f0116"
      },
      "source": [
        "from fastparquet import ParquetFile\n",
        "from google.colab import drive\n",
        "from datetime import datetime\n",
        "\n",
        "from sklearn import preprocessing\n",
        "from sklearn.linear_model import LogisticRegression\n",
        "from sklearn.model_selection import train_test_split\n",
        "\n",
        "import pandas as pd\n",
        "import numpy as np\n",
        "import string\n",
        "import Levenshtein\n",
        "import matplotlib.pyplot as plt \n",
        "import seaborn as sns\n",
        "\n",
        "import nltk\n",
        "from nltk.corpus import stopwords\n",
        "nltk.download('tagsets')\n",
        "nltk.download('stopwords')\n",
        "\n",
        "stopwords = stopwords.words('english')\n",
        "\n",
        "drive.mount('/content/drive')"
      ],
      "execution_count": 2,
      "outputs": [
        {
          "output_type": "stream",
          "text": [
            "[nltk_data] Downloading package tagsets to /root/nltk_data...\n",
            "[nltk_data]   Package tagsets is already up-to-date!\n",
            "[nltk_data] Downloading package stopwords to /root/nltk_data...\n",
            "[nltk_data]   Package stopwords is already up-to-date!\n",
            "Drive already mounted at /content/drive; to attempt to forcibly remount, call drive.mount(\"/content/drive\", force_remount=True).\n"
          ],
          "name": "stdout"
        }
      ]
    },
    {
      "cell_type": "markdown",
      "metadata": {
        "id": "4WH6nvtUjwDV"
      },
      "source": [
        "### Main Code"
      ]
    },
    {
      "cell_type": "markdown",
      "metadata": {
        "id": "D7TYtinwm3ge"
      },
      "source": [
        "#### Read `.parquet` file and separating study cases"
      ]
    },
    {
      "cell_type": "code",
      "metadata": {
        "id": "J0dHQfi8gvDZ"
      },
      "source": [
        "parquetFile = ParquetFile('drive/MyDrive/Colab/issues.parquet', verify=True)\n",
        "pandasDataFrame = parquetFile.to_pandas()\n",
        "\n",
        "# Filter only bugs\n",
        "bugDataFrame = pandasDataFrame[pandasDataFrame[\"issuetype\"].str.contains(\"Bug\", na=False)]\n",
        "# Filter except bugs\n",
        "baseDataFrame = pandasDataFrame[~pandasDataFrame[\"issuetype\"].str.contains(\"Bug\", na=False)]"
      ],
      "execution_count": 55,
      "outputs": []
    },
    {
      "cell_type": "markdown",
      "metadata": {
        "id": "IxfLFvDUruwC"
      },
      "source": [
        "#### Statistics for nerds "
      ]
    },
    {
      "cell_type": "code",
      "metadata": {
        "id": "ARzMRFHhAcH4"
      },
      "source": [
        "### MAIN FUNCTION TO PRINT PERCENTAGE OF ITENS WITH AND WITHOUT SEVERITY\n",
        "def calculatePercentageOfSeverity(dataFrame):\n",
        "  itemsWithSeverity = len(dataFrame[~dataFrame['severity'].isnull()])\n",
        "  itemsWithoutSeverity = len(dataFrame[dataFrame['severity'].isnull()])\n",
        "\n",
        "  percItemsWithSeverity  = itemsWithSeverity / (itemsWithSeverity + itemsWithoutSeverity)\n",
        "  percItemsWithoutSeverity  = itemsWithoutSeverity / (itemsWithSeverity + itemsWithoutSeverity)\n",
        "\n",
        "  print(\"Percentage with severity is\", round(percItemsWithSeverity * 100, 2))\n",
        "  print(\"Percentage without severity is\", round(percItemsWithoutSeverity * 100, 2))\n",
        "\n",
        "### MAIN FUNCTION TO PRINT PERCENTAGE OF ITENS WITH AND WITHOUT SEVERITY\n",
        "def calculatePercentageOfResolutionDate(dataFrame):\n",
        "  itemsWithResolutionDate = len(dataFrame[~dataFrame['last_resolved'].isnull()])\n",
        "  itemsWithoutResolutionDate = len(dataFrame[dataFrame['last_resolved'].isnull()])\n",
        "\n",
        "  percItemsWithResolutionDate  = itemsWithResolutionDate / (itemsWithResolutionDate + itemsWithoutResolutionDate)\n",
        "  print(\"Percentage with resolution is\", round(percItemsWithResolutionDate * 100, 2))\n",
        "\n",
        "  percItemsWithoutResolutionDate  = itemsWithoutResolutionDate / (itemsWithResolutionDate + itemsWithoutResolutionDate)\n",
        "  print(\"Percentage without resolution is\", round(percItemsWithoutResolutionDate * 100, 2))\n",
        "\n",
        "def clean_string(text):\n",
        "  if (text is not None):\n",
        "    text = ' '.join([word for word in text if word not in stopwords])\n",
        "    text = ''.join([word for word in text if word not in string.punctuation])\n",
        "    text = text.lower()\n",
        "    text = text.strip().replace(\"\\n\", \" \").replace(\"\\r\", \" \")\n",
        "    return text\n",
        "  else:\n",
        "    return \"\"\n",
        "\n",
        "def vetorizarPresencaPalavras(texto, palavraEposicao):\n",
        "    vetor = [0] * len(palavraEposicao)\n",
        "    for palavra in texto:\n",
        "        if palavra in palavraEposicao:\n",
        "            posicao = palavraEposicao[palavra]\n",
        "            vetor[posicao] += 1\n",
        "    return vetor"
      ],
      "execution_count": 56,
      "outputs": []
    },
    {
      "cell_type": "markdown",
      "metadata": {
        "id": "nba4xsqdsEND"
      },
      "source": [
        "###### Severity count"
      ]
    },
    {
      "cell_type": "code",
      "metadata": {
        "id": "7aKibQTtryeR",
        "colab": {
          "base_uri": "https://localhost:8080/",
          "height": 0
        },
        "outputId": "b8554db7-da85-4879-bc3a-291d5b3047b2"
      },
      "source": [
        "plot = sns.countplot(x=\"severity\", data=pandasDataFrame, palette='muted')\n",
        "plot.set_xticklabels(plot.get_xticklabels(), rotation=45, ha=\"right\")\n",
        "plt.show()\n",
        "plt.savefig('severity_count')"
      ],
      "execution_count": 57,
      "outputs": [
        {
          "output_type": "display_data",
          "data": {
            "image/png": "[encoded data removed]",
            "text/plain": [
              "<Figure size 432x288 with 1 Axes>"
            ]
          },
          "metadata": {
            "tags": [],
            "needs_background": "light"
          }
        },
        {
          "output_type": "display_data",
          "data": {
            "text/plain": [
              "<Figure size 432x288 with 0 Axes>"
            ]
          },
          "metadata": {
            "tags": []
          }
        }
      ]
    },
    {
      "cell_type": "markdown",
      "metadata": {
        "id": "vFzA4T56sYN-"
      },
      "source": [
        "###### Issue count"
      ]
    },
    {
      "cell_type": "code",
      "metadata": {
        "id": "xeCaaHu3sWn7",
        "colab": {
          "base_uri": "https://localhost:8080/",
          "height": 0
        },
        "outputId": "fac1dbf0-f542-4313-e2e6-51bed9b4c06b"
      },
      "source": [
        "plt.figure(figsize=(20,10))\n",
        "ax = sns.countplot(x=\"issuetype\", data=pandasDataFrame, palette='muted')\n",
        "ax.set_xticklabels(ax.get_xticklabels(), rotation=45, ha=\"right\")\n",
        "plt.tight_layout()\n",
        "plt.show()\n",
        "plt.savefig('issue_count')"
      ],
      "execution_count": 58,
      "outputs": [
        {
          "output_type": "display_data",
          "data": {
            "image/png": "[encoded data removed]",
            "text/plain": [
              "<Figure size 1440x720 with 1 Axes>"
            ]
          },
          "metadata": {
            "tags": [],
            "needs_background": "light"
          }
        },
        {
          "output_type": "display_data",
          "data": {
            "text/plain": [
              "<Figure size 432x288 with 0 Axes>"
            ]
          },
          "metadata": {
            "tags": []
          }
        }
      ]
    },
    {
      "cell_type": "markdown",
      "metadata": {
        "id": "Om9sCmaF35rD"
      },
      "source": [
        "###### Percentage of items resolution date"
      ]
    },
    {
      "cell_type": "markdown",
      "metadata": {
        "id": "qFpbu1nT4wvu"
      },
      "source": [
        "###### Percentage of items with severity\n"
      ]
    },
    {
      "cell_type": "code",
      "metadata": {
        "colab": {
          "base_uri": "https://localhost:8080/"
        },
        "id": "WSSku0b_3UiB",
        "outputId": "16a1aedf-d853-41d5-8748-6c41c553626e"
      },
      "source": [
        "calculatePercentageOfResolutionDate(pandasDataFrame)"
      ],
      "execution_count": 59,
      "outputs": [
        {
          "output_type": "stream",
          "text": [
            "Percentage with resolution is 55.77\n",
            "Percentage without resolution is 44.23\n"
          ],
          "name": "stdout"
        }
      ]
    },
    {
      "cell_type": "code",
      "metadata": {
        "colab": {
          "base_uri": "https://localhost:8080/"
        },
        "id": "37ivPvF24wv7",
        "outputId": "d3c29637-ac39-4cb5-8426-873191003b21"
      },
      "source": [
        "calculatePercentageOfSeverity(pandasDataFrame)"
      ],
      "execution_count": 60,
      "outputs": [
        {
          "output_type": "stream",
          "text": [
            "Percentage with severity is 61.84\n",
            "Percentage without severity is 38.16\n"
          ],
          "name": "stdout"
        }
      ]
    },
    {
      "cell_type": "markdown",
      "metadata": {
        "id": "wa0ro7ry4Jzu"
      },
      "source": [
        "###### Percentage non bugs with severity\n"
      ]
    },
    {
      "cell_type": "code",
      "metadata": {
        "colab": {
          "base_uri": "https://localhost:8080/"
        },
        "id": "J91twCWj4Jzv",
        "outputId": "9d206bf9-8b3b-4b2b-d8dd-e0093551358b"
      },
      "source": [
        "calculatePercentageOfSeverity(baseDataFrame)"
      ],
      "execution_count": 61,
      "outputs": [
        {
          "output_type": "stream",
          "text": [
            "Percentage with severity is 77.56\n",
            "Percentage without severity is 22.44\n"
          ],
          "name": "stdout"
        }
      ]
    },
    {
      "cell_type": "markdown",
      "metadata": {
        "id": "jEuHMjff4Jzx"
      },
      "source": [
        "###### Percentage of non Bugs resolution date"
      ]
    },
    {
      "cell_type": "code",
      "metadata": {
        "colab": {
          "base_uri": "https://localhost:8080/"
        },
        "id": "YdkPnD5U4Jzy",
        "outputId": "29979eed-c922-4e0d-ab9d-2a6f0068cf92"
      },
      "source": [
        "calculatePercentageOfResolutionDate(baseDataFrame)"
      ],
      "execution_count": 62,
      "outputs": [
        {
          "output_type": "stream",
          "text": [
            "Percentage with resolution is 69.95\n",
            "Percentage without resolution is 30.05\n"
          ],
          "name": "stdout"
        }
      ]
    },
    {
      "cell_type": "markdown",
      "metadata": {
        "id": "7Xq-rOkthpim"
      },
      "source": [
        "###### Let's talk about Bugs:"
      ]
    },
    {
      "cell_type": "markdown",
      "metadata": {
        "id": "9P29BUlFhpin"
      },
      "source": [
        "Percentage of Bugs"
      ]
    },
    {
      "cell_type": "code",
      "metadata": {
        "colab": {
          "base_uri": "https://localhost:8080/"
        },
        "id": "zFN--2duhpin",
        "outputId": "a0d37178-71d1-4b99-aa0e-75df6712d8d1"
      },
      "source": [
        "countOfBugs = len(pandasDataFrame[pandasDataFrame['issuetype'] == 'Bug'])\n",
        "countNonBugs = len(pandasDataFrame[pandasDataFrame['issuetype'] != 'Bug'])\n",
        "percOfBugs  = countOfBugs / (countOfBugs + countNonBugs)\n",
        "percOfNonBugs  = countNonBugs / (countOfBugs + countNonBugs)\n",
        "print(\"Percentage of bugs is\", round(percOfBugs * 100, 2))\n",
        "print(\"Percentage of non bugs is\", round(percOfNonBugs * 100, 2))"
      ],
      "execution_count": 63,
      "outputs": [
        {
          "output_type": "stream",
          "text": [
            "Percentage of bugs is 20.27\n",
            "Percentage of non bugs is 79.73\n"
          ],
          "name": "stdout"
        }
      ]
    },
    {
      "cell_type": "markdown",
      "metadata": {
        "id": "25Y6p9zohpio"
      },
      "source": [
        "Percentage of Bugs with severity\n"
      ]
    },
    {
      "cell_type": "code",
      "metadata": {
        "colab": {
          "base_uri": "https://localhost:8080/"
        },
        "id": "GABr3k9ohpio",
        "outputId": "20831de2-cadc-4531-9716-563078973705"
      },
      "source": [
        "calculatePercentageOfSeverity(bugDataFrame)"
      ],
      "execution_count": 64,
      "outputs": [
        {
          "output_type": "stream",
          "text": [
            "Percentage with severity is 0.0\n",
            "Percentage without severity is 100.0\n"
          ],
          "name": "stdout"
        }
      ]
    },
    {
      "cell_type": "markdown",
      "metadata": {
        "id": "hdnnS74xhpip"
      },
      "source": [
        "Percentage of Bugs resolution date"
      ]
    },
    {
      "cell_type": "code",
      "metadata": {
        "colab": {
          "base_uri": "https://localhost:8080/"
        },
        "id": "2MH0tTF7hpip",
        "outputId": "9816e87c-cf20-4424-b5ae-4bfacb8835eb"
      },
      "source": [
        "calculatePercentageOfResolutionDate(bugDataFrame)"
      ],
      "execution_count": 65,
      "outputs": [
        {
          "output_type": "stream",
          "text": [
            "Percentage with resolution is 0.0\n",
            "Percentage without resolution is 100.0\n"
          ],
          "name": "stdout"
        }
      ]
    },
    {
      "cell_type": "markdown",
      "metadata": {
        "id": "fsF3EcJohpiq"
      },
      "source": [
        "---\n",
        "> End of statistics\n",
        "---\n"
      ]
    },
    {
      "cell_type": "markdown",
      "metadata": {
        "id": "hQ4ylotT-uQf"
      },
      "source": [
        "#### Balance dataset"
      ]
    },
    {
      "cell_type": "code",
      "metadata": {
        "id": "pEt9OHZg-1O4",
        "colab": {
          "base_uri": "https://localhost:8080/"
        },
        "outputId": "697eee41-1368-4d22-835c-53dffc773730"
      },
      "source": [
        "baseDataFrame = baseDataFrame[~baseDataFrame['last_resolved'].isnull()]\n",
        "baseDataFrame = baseDataFrame[~baseDataFrame['severity'].isnull()]\n",
        "\n",
        "y = baseDataFrame.severity\n",
        "\n",
        "from imblearn.under_sampling import RandomUnderSampler\n",
        "ros = RandomUnderSampler()\n",
        "\n",
        "X_resampled, y_resampled = ros.fit_sample(baseDataFrame, y)\n",
        "os_data_X = pd.DataFrame(data=X_resampled, columns=baseDataFrame.columns)\n",
        "os_data_y= pd.DataFrame(data=y_resampled, columns=['severity'])\n",
        "\n",
        "baseDataFrame = pd.DataFrame(X_resampled, columns=baseDataFrame.columns)"
      ],
      "execution_count": 66,
      "outputs": [
        {
          "output_type": "stream",
          "text": [
            "/usr/local/lib/python3.7/dist-packages/sklearn/utils/deprecation.py:87: FutureWarning: Function safe_indexing is deprecated; safe_indexing is deprecated in version 0.22 and will be removed in version 0.24.\n",
            "  warnings.warn(msg, category=FutureWarning)\n"
          ],
          "name": "stderr"
        }
      ]
    },
    {
      "cell_type": "markdown",
      "metadata": {
        "id": "kDd_qXprqaXh"
      },
      "source": [
        "#### Validating if balanced has worked"
      ]
    },
    {
      "cell_type": "code",
      "metadata": {
        "colab": {
          "base_uri": "https://localhost:8080/",
          "height": 0
        },
        "id": "P7zsxAsQqVtG",
        "outputId": "d31b3fcd-b89e-4626-9d0e-3c4d6c508b7e"
      },
      "source": [
        "calculatePercentageOfSeverity(baseDataFrame)\n",
        "calculatePercentageOfResolutionDate(baseDataFrame)\n",
        "\n",
        "plt.figure(figsize=(15,5))\n",
        "ax = sns.countplot(x=\"severity\", data=baseDataFrame)\n",
        "plt.show()\n",
        "plt.savefig('issue_count')"
      ],
      "execution_count": 67,
      "outputs": [
        {
          "output_type": "stream",
          "text": [
            "Percentage with severity is 100.0\n",
            "Percentage without severity is 0.0\n",
            "Percentage with resolution is 100.0\n",
            "Percentage without resolution is 0.0\n"
          ],
          "name": "stdout"
        },
        {
          "output_type": "display_data",
          "data": {
            "image/png": "[encoded data removed]",
            "text/plain": [
              "<Figure size 1080x360 with 1 Axes>"
            ]
          },
          "metadata": {
            "tags": [],
            "needs_background": "light"
          }
        },
        {
          "output_type": "display_data",
          "data": {
            "text/plain": [
              "<Figure size 432x288 with 0 Axes>"
            ]
          },
          "metadata": {
            "tags": []
          }
        }
      ]
    },
    {
      "cell_type": "code",
      "metadata": {
        "colab": {
          "base_uri": "https://localhost:8080/"
        },
        "id": "XquR64e2roiA",
        "outputId": "cdaa5267-aebe-4d87-e3cf-5e61eb6d6591"
      },
      "source": [
        "print(bugDataFrame.iloc[7279]['summary'])\n",
        "print('-----')\n",
        "print(bugDataFrame.iloc[7279]['description'])\n",
        "print('-----')"
      ],
      "execution_count": 68,
      "outputs": [
        {
          "output_type": "stream",
          "text": [
            "Fixing a lot of Flake8 voilations\n",
            "-----\n",
            "Either fixing or adding noqa tags in the code, to make sure that we can some day apply flake8 to everything.\n",
            "-----\n"
          ],
          "name": "stdout"
        }
      ]
    },
    {
      "cell_type": "markdown",
      "metadata": {
        "id": "qdLpWl7DVHHG"
      },
      "source": [
        "#### Training model - Logistic Regression"
      ]
    },
    {
      "cell_type": "code",
      "metadata": {
        "colab": {
          "base_uri": "https://localhost:8080/",
          "height": 0
        },
        "id": "Zhx25h2iVLKb",
        "outputId": "85160914-bd3a-4873-a8b4-d59616af4350"
      },
      "source": [
        "\"\"\"\n",
        "from sklearn.feature_selection import RFE\n",
        "from sklearn.linear_model import LogisticRegression\n",
        "from sklearn import preprocessing\n",
        "\n",
        "le = preprocessing.LabelEncoder()\n",
        "le.fit(np.ravel(os_data_y))\n",
        "os_data_y = le.transform(np.ravel(os_data_y))\n",
        "\n",
        "\n",
        "X = data_final.loc[:, data_final.columns != 'y']\n",
        "y = data_final.loc[:, data_final.columns == 'y']\n",
        "\n",
        "X_train, X_test, y_train, y_test = train_test_split(X, y, test_size=0.3, random_state=0)\n",
        "columns = X_train.columns\n",
        "\n",
        "le.fit(os_data_X['source'])\n",
        "os_data_X['source'] = le.transform(os_data_X['source'])\n",
        "\n",
        "logreg = LogisticRegression()\n",
        "rfe = RFE(logreg, 20)\n",
        "rfe = rfe.fit(os_data_X, os_data_y)\n",
        "\n",
        "print(le.support_)\n",
        "print(le.ranking_)\n",
        "\"\"\""
      ],
      "execution_count": 69,
      "outputs": [
        {
          "output_type": "execute_result",
          "data": {
            "application/vnd.google.colaboratory.intrinsic+json": {
              "type": "string"
            },
            "text/plain": [
              "\"\\nfrom sklearn.feature_selection import RFE\\nfrom sklearn.linear_model import LogisticRegression\\nfrom sklearn import preprocessing\\n\\nle = preprocessing.LabelEncoder()\\nle.fit(np.ravel(os_data_y))\\nos_data_y = le.transform(np.ravel(os_data_y))\\n\\n\\nX = data_final.loc[:, data_final.columns != 'y']\\ny = data_final.loc[:, data_final.columns == 'y']\\n\\nX_train, X_test, y_train, y_test = train_test_split(X, y, test_size=0.3, random_state=0)\\ncolumns = X_train.columns\\n\\nle.fit(os_data_X['source'])\\nos_data_X['source'] = le.transform(os_data_X['source'])\\n\\nlogreg = LogisticRegression()\\nrfe = RFE(logreg, 20)\\nrfe = rfe.fit(os_data_X, os_data_y)\\n\\nprint(le.support_)\\nprint(le.ranking_)\\n\""
            ]
          },
          "metadata": {
            "tags": []
          },
          "execution_count": 69
        }
      ]
    },
    {
      "cell_type": "markdown",
      "metadata": {
        "id": "8yZryoHw2T6H"
      },
      "source": [
        "#### Training model - Linear Regression"
      ]
    },
    {
      "cell_type": "code",
      "metadata": {
        "colab": {
          "base_uri": "https://localhost:8080/",
          "height": 0
        },
        "id": "ELO9F5Nn2TQm",
        "outputId": "ea8200df-df11-4f6f-f3e2-0dcb7f85ca2d"
      },
      "source": [
        "\"\"\"\n",
        "from sklearn.linear_model import LinearRegression\n",
        "\n",
        "# SPLIT DATASET IN MIDDLE\n",
        "df1 = baseDataFrame.iloc[:, :48172]\n",
        "df2 = baseDataFrame.iloc[:, 48172:]\n",
        "\n",
        "# 1º Tentativa\n",
        "#df1 = df1.apply(pd.to_numeric, errors='coerce')\n",
        "#df2 = df2.apply(pd.to_numeric, errors='coerce')\n",
        "\n",
        "# 2ª Tentativa\n",
        "# https://stackoverflow.com/questions/34007308/linear-regression-analysis-with-string-categorical-features-variables\n",
        "# get_dummies estoura a memória\n",
        "# ----\n",
        "print(df1.info())\n",
        "\n",
        "# CREATE A TEST AND TRAIN DATASET's\n",
        "X_train, X_test, y_train, y_test = train_test_split(df1, df2, test_size=0.3, random_state=0)\n",
        "\n",
        "clf = LinearRegression().fit(X_train, y_train)\n",
        "\"\"\""
      ],
      "execution_count": 70,
      "outputs": [
        {
          "output_type": "execute_result",
          "data": {
            "application/vnd.google.colaboratory.intrinsic+json": {
              "type": "string"
            },
            "text/plain": [
              "\"\\nfrom sklearn.linear_model import LinearRegression\\n\\n# SPLIT DATASET IN MIDDLE\\ndf1 = baseDataFrame.iloc[:, :48172]\\ndf2 = baseDataFrame.iloc[:, 48172:]\\n\\n# 1º Tentativa\\n#df1 = df1.apply(pd.to_numeric, errors='coerce')\\n#df2 = df2.apply(pd.to_numeric, errors='coerce')\\n\\n# 2ª Tentativa\\n# https://stackoverflow.com/questions/34007308/linear-regression-analysis-with-string-categorical-features-variables\\n# get_dummies estoura a memória\\n# ----\\nprint(df1.info())\\n\\n# CREATE A TEST AND TRAIN DATASET's\\nX_train, X_test, y_train, y_test = train_test_split(df1, df2, test_size=0.3, random_state=0)\\n\\nclf = LinearRegression().fit(X_train, y_train)\\n\""
            ]
          },
          "metadata": {
            "tags": []
          },
          "execution_count": 70
        }
      ]
    },
    {
      "cell_type": "markdown",
      "metadata": {
        "id": "Ft2uHM_IZYUm"
      },
      "source": [
        "#### Testando classificação de texto"
      ]
    },
    {
      "cell_type": "code",
      "metadata": {
        "colab": {
          "base_uri": "https://localhost:8080/"
        },
        "id": "e_xyA9dGZcD4",
        "outputId": "6d2dccfa-670b-4337-ed35-af41cf6763d4"
      },
      "source": [
        "# MERGING TWO CELL's FOR BETTER MANAGMENT\n",
        "baseDataFrame['summary'] = baseDataFrame['summary'].astype(str).str.lower()\n",
        "baseDataFrame['description'] = baseDataFrame['description'].astype(str).str.lower()\n",
        "\n",
        "baseDataFrame['text'] = baseDataFrame['summary'].astype(str) + baseDataFrame['description'].astype(str)\n",
        "\n",
        "# MAKING COPY TO AVOID MEMORY LIMIT\n",
        "df1 = baseDataFrame\n",
        "\n",
        "\"\"\"\n",
        "baseDataFrame['text'] = baseDataFrame['summary'].astype(str).str.split() + baseDataFrame['description'].astype(str).str.split()\n",
        "\n",
        "dictionary = set()\n",
        "for words in baseDataFrame['text']:\n",
        "  dictionary.update(words)\n",
        "\n",
        "quantityOfWords = len(dictionary)\n",
        "\n",
        "wordsAndDict = dict(zip(dictionary, range(quantityOfWords)))\n",
        "\n",
        "texto = baseDataFrame['text'][0]\n",
        "print(texto)\n",
        "print(wordsAndDict)\n",
        "print(vetorizarPresencaPalavras(texto, wordsAndDict))\n",
        "\"\"\"\n",
        "from sklearn.feature_extraction.text import CountVectorizer\n",
        "\n",
        "vectorizer = CountVectorizer(min_df=0, lowercase=False)\n",
        "vectorizer.fit(df1['text'])\n",
        "# vectorizer.vocabulary_\n"
      ],
      "execution_count": 78,
      "outputs": [
        {
          "output_type": "execute_result",
          "data": {
            "text/plain": [
              "CountVectorizer(analyzer='word', binary=False, decode_error='strict',\n",
              "                dtype=<class 'numpy.int64'>, encoding='utf-8', input='content',\n",
              "                lowercase=False, max_df=1.0, max_features=None, min_df=0,\n",
              "                ngram_range=(1, 1), preprocessor=None, stop_words=None,\n",
              "                strip_accents=None, token_pattern='(?u)\\\\b\\\\w\\\\w+\\\\b',\n",
              "                tokenizer=None, vocabulary=None)"
            ]
          },
          "metadata": {
            "tags": []
          },
          "execution_count": 78
        }
      ]
    },
    {
      "cell_type": "code",
      "metadata": {
        "id": "3SVzYYnqwQph"
      },
      "source": [
        "# Estoura a memória\n",
        "\n",
        "sentences = df1['text'].values\n",
        "y = df1['severity'].values\n",
        "\n",
        "sentences_train, sentences_test, y_train, y_test = train_test_split(sentences, y, test_size=0.4, random_state=1000)\n"
      ],
      "execution_count": 79,
      "outputs": []
    },
    {
      "cell_type": "code",
      "metadata": {
        "colab": {
          "base_uri": "https://localhost:8080/"
        },
        "id": "ISaawgjj1p9D",
        "outputId": "0296727b-6b10-4b46-ea96-923184945930"
      },
      "source": [
        "from sklearn.feature_extraction.text import CountVectorizer\n",
        "\n",
        "vectorizer = CountVectorizer()\n",
        "vectorizer.fit(sentences_train)\n",
        "X_train = vectorizer.transform(sentences_train)\n",
        "X_test  = vectorizer.transform(sentences_test)\n",
        "X_train"
      ],
      "execution_count": 80,
      "outputs": [
        {
          "output_type": "execute_result",
          "data": {
            "text/plain": [
              "<57808x40281 sparse matrix of type '<class 'numpy.int64'>'\n",
              "\twith 523187 stored elements in Compressed Sparse Row format>"
            ]
          },
          "metadata": {
            "tags": []
          },
          "execution_count": 80
        }
      ]
    },
    {
      "cell_type": "code",
      "metadata": {
        "colab": {
          "base_uri": "https://localhost:8080/"
        },
        "id": "Y25xInwu1xF_",
        "outputId": "fad378c1-d71e-456c-8b19-bbd83b33b23f"
      },
      "source": [
        "from sklearn.linear_model import LogisticRegression\n",
        "\n",
        "classifier = LogisticRegression()\n",
        "classifier.fit(X_train, y_train)\n",
        "score = classifier.score(X_test, y_test)\n",
        "\n",
        "print(\"Accuracy:\", score)"
      ],
      "execution_count": 81,
      "outputs": [
        {
          "output_type": "stream",
          "text": [
            "Accuracy: 0.4526984950700571\n"
          ],
          "name": "stdout"
        },
        {
          "output_type": "stream",
          "text": [
            "/usr/local/lib/python3.7/dist-packages/sklearn/linear_model/_logistic.py:940: ConvergenceWarning: lbfgs failed to converge (status=1):\n",
            "STOP: TOTAL NO. of ITERATIONS REACHED LIMIT.\n",
            "\n",
            "Increase the number of iterations (max_iter) or scale the data as shown in:\n",
            "    https://scikit-learn.org/stable/modules/preprocessing.html\n",
            "Please also refer to the documentation for alternative solver options:\n",
            "    https://scikit-learn.org/stable/modules/linear_model.html#logistic-regression\n",
            "  extra_warning_msg=_LOGISTIC_SOLVER_CONVERGENCE_MSG)\n"
          ],
          "name": "stderr"
        }
      ]
    },
    {
      "cell_type": "markdown",
      "metadata": {
        "id": "dCnid-CLbqwt"
      },
      "source": [
        "#### Get one item from bug to analise and clean phrase"
      ]
    },
    {
      "cell_type": "code",
      "metadata": {
        "id": "IVBguEQrIg84",
        "colab": {
          "base_uri": "https://localhost:8080/"
        },
        "outputId": "b0bbd0b2-3bcf-43ca-ddda-62778f32092c"
      },
      "source": [
        "focusedItem = bugDataFrame.iloc[3489]['summary']\n",
        "# focusedItem = \"Cannot edit settings under Edit Preferences\"\n",
        "focusedItem = clean_string(focusedItem)\n",
        "\n",
        "print(focusedItem)"
      ],
      "execution_count": 75,
      "outputs": [
        {
          "output_type": "stream",
          "text": [
            "e r r r   u b n g   h e   j b     h   l g n 1  l 4  c c  u e x    e u   e g e    2\n"
          ],
          "name": "stdout"
        }
      ]
    },
    {
      "cell_type": "markdown",
      "metadata": {
        "id": "4eEmz3wYEvyZ"
      },
      "source": [
        "#### Search the closest item inside base dataframe"
      ]
    },
    {
      "cell_type": "code",
      "metadata": {
        "id": "3mAUz8uYqOBf",
        "colab": {
          "base_uri": "https://localhost:8080/"
        },
        "outputId": "97e471dd-5f14-45ff-8da5-4f4fd5ca8014"
      },
      "source": [
        "minDistance = 0;\n",
        "betterIndex = 0;\n",
        "\n",
        "for index, row in baseDataFrame.iterrows():\n",
        "  phrase = clean_string(row['summary'])  \n",
        "  distance = Levenshtein.distance(focusedItem, phrase)\n",
        "\n",
        "  if (index == 0):\n",
        "    minDistance = distance\n",
        "    betterIndex = index\n",
        "  \n",
        "  elif (distance <= minDistance) :\n",
        "    minDistance = distance\n",
        "    betterIndex = index\n",
        "\n",
        "print(\"better index: \", betterIndex)\n",
        "print(\"min distance: \", minDistance)"
      ],
      "execution_count": 76,
      "outputs": [
        {
          "output_type": "stream",
          "text": [
            "better index:  75816\n",
            "min distance:  27\n"
          ],
          "name": "stdout"
        }
      ]
    },
    {
      "cell_type": "markdown",
      "metadata": {
        "id": "Zyos5yRVE5-Y"
      },
      "source": [
        "#### Printing the severity and days to resolved"
      ]
    },
    {
      "cell_type": "code",
      "metadata": {
        "id": "RIJs9YzR8cHh",
        "colab": {
          "base_uri": "https://localhost:8080/"
        },
        "outputId": "24cf0d42-ca54-446b-b331-679150f9cdb2"
      },
      "source": [
        "item = baseDataFrame.loc[betterIndex]\n",
        "\n",
        "severity = item['severity']\n",
        "created = item['created']\n",
        "last_resolved = item['last_resolved']\n",
        "\n",
        "print(created)\n",
        "print(last_resolved)\n",
        "\n",
        "resolvedTime = (str) ((last_resolved - created).days)\n",
        "\n",
        "if (resolvedTime is None):\n",
        "  resolvedTime = \"0\"\n",
        "\n",
        "if (severity is None):\n",
        "  severity = \"unknown\"\n",
        "\n",
        "print(\"Your problem has a \" + severity + \" severity and will take \" + resolvedTime + \" day(s) to resolve\")"
      ],
      "execution_count": 77,
      "outputs": [
        {
          "output_type": "stream",
          "text": [
            "2019-10-14 05:40:56\n",
            "2019-10-14 15:34:29\n",
            "Your problem has a normal severity and will take 0 day(s) to resolve\n"
          ],
          "name": "stdout"
        }
      ]
    }
  ]
}